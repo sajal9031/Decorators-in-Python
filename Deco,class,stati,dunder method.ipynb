{
 "cells": [
  {
   "cell_type": "markdown",
   "id": "e0824eae-d590-42c3-b41d-19fed0fd69e9",
   "metadata": {},
   "source": [
    "Decorator\n",
    "\n",
    "In Python, a decorator is a design pattern that allows a user to modify or extend the behavior of a function or class without directly modifying its code. Decorators provide a way to add additional functionality to a function or class by wrapping it with another function.\n",
    "\n",
    "A decorator is a function that takes another function as input, performs some processing on the input function, and then returns the modified function."
   ]
  },
  {
   "cell_type": "code",
   "execution_count": 1,
   "id": "ca78e4a7-35ff-44d8-af2c-dd2eb6584a24",
   "metadata": {},
   "outputs": [],
   "source": [
    "def test():\n",
    "    print(\"this is start of my fun\")\n",
    "    print(4+6)\n",
    "    print(\"this is end of my fun\")"
   ]
  },
  {
   "cell_type": "code",
   "execution_count": 2,
   "id": "277e0070-477b-4f02-bdd6-bd24af334c89",
   "metadata": {},
   "outputs": [
    {
     "name": "stdout",
     "output_type": "stream",
     "text": [
      "this is start of my fun\n",
      "10\n",
      "this is end of my fun\n"
     ]
    }
   ],
   "source": [
    "test()"
   ]
  },
  {
   "cell_type": "code",
   "execution_count": 24,
   "id": "4b96f7c2-85ab-4da3-bd2b-d2135bf85721",
   "metadata": {},
   "outputs": [],
   "source": [
    "def deco(func):\n",
    "    def inner_deco():\n",
    "        print(\"this is start\")\n",
    "        func()\n",
    "        print(\"this is end\")\n",
    "    return inner_deco\n",
    "        "
   ]
  },
  {
   "cell_type": "code",
   "execution_count": 25,
   "id": "0032df68-edf2-400b-93a2-4f4cdc62f1c5",
   "metadata": {},
   "outputs": [],
   "source": [
    "def test1():\n",
    "    print(34+45)"
   ]
  },
  {
   "cell_type": "code",
   "execution_count": 26,
   "id": "d20047e4-aace-4f64-9427-1d981295faf7",
   "metadata": {},
   "outputs": [
    {
     "name": "stdout",
     "output_type": "stream",
     "text": [
      "79\n"
     ]
    }
   ],
   "source": [
    "test1()"
   ]
  },
  {
   "cell_type": "code",
   "execution_count": 8,
   "id": "b4ce2e71-c1a8-4286-a372-4f8e31889129",
   "metadata": {},
   "outputs": [],
   "source": [
    "@deco\n",
    "def test1():\n",
    "    print(34+45)"
   ]
  },
  {
   "cell_type": "code",
   "execution_count": 9,
   "id": "b72c7293-38de-46f5-91d2-bbca6c5c3c6e",
   "metadata": {},
   "outputs": [
    {
     "name": "stdout",
     "output_type": "stream",
     "text": [
      "this is start\n",
      "79\n",
      "this is end\n"
     ]
    }
   ],
   "source": [
    "test1()"
   ]
  },
  {
   "cell_type": "code",
   "execution_count": null,
   "id": "47cf5da7-1907-46c1-bee6-1a6a7aa34fbf",
   "metadata": {},
   "outputs": [],
   "source": []
  },
  {
   "cell_type": "code",
   "execution_count": 10,
   "id": "2967855d-cbbb-4068-bef6-fe52c229a70c",
   "metadata": {},
   "outputs": [],
   "source": [
    "import time\n",
    "def timer_test(func):\n",
    "    def timer_test_inner():\n",
    "        start=time.time()\n",
    "        func()\n",
    "        end=time.time()\n",
    "        print(end-start)\n",
    "    return timer_test_inner\n"
   ]
  },
  {
   "cell_type": "code",
   "execution_count": 11,
   "id": "442f37c0-bd05-44b9-980e-decd27bf4902",
   "metadata": {},
   "outputs": [],
   "source": [
    "@timer_test\n",
    "def test2():\n",
    "    print(49+51)"
   ]
  },
  {
   "cell_type": "code",
   "execution_count": 12,
   "id": "152e119f-c187-4abb-854c-998ae0e1078e",
   "metadata": {},
   "outputs": [
    {
     "name": "stdout",
     "output_type": "stream",
     "text": [
      "100\n",
      "4.57763671875e-05\n"
     ]
    }
   ],
   "source": [
    "test2()"
   ]
  },
  {
   "cell_type": "code",
   "execution_count": 21,
   "id": "c3b768ea-7964-484b-b28e-6eaa348749da",
   "metadata": {},
   "outputs": [],
   "source": [
    "@timer_test\n",
    "def test3():\n",
    "    for i in range(1,10):\n",
    "        print(i)"
   ]
  },
  {
   "cell_type": "code",
   "execution_count": 22,
   "id": "0522b9f7-ccc2-4f51-bf85-e494b30672b0",
   "metadata": {},
   "outputs": [
    {
     "name": "stdout",
     "output_type": "stream",
     "text": [
      "1\n",
      "2\n",
      "3\n",
      "4\n",
      "5\n",
      "6\n",
      "7\n",
      "8\n",
      "9\n",
      "6.580352783203125e-05\n"
     ]
    }
   ],
   "source": [
    "test3()"
   ]
  },
  {
   "cell_type": "code",
   "execution_count": null,
   "id": "803a84fa-92c2-4c23-a5af-40f8f941cbae",
   "metadata": {},
   "outputs": [],
   "source": []
  },
  {
   "cell_type": "markdown",
   "id": "8a05da23-9b62-4694-bc92-1a8583638519",
   "metadata": {},
   "source": [
    "Instance Method\n",
    "\n",
    "In Python, an instance method is a type of method that belongs to an instance of a class. Instance methods are defined within a class, and they can access the data and methods of the instance on which they are called.\n",
    "\n",
    "Instance methods are defined with the def keyword and take the instance itself as the first argument, conventionally named self, which allows them to access the instance's attributes and other instance methods. Here is an example:"
   ]
  },
  {
   "cell_type": "code",
   "execution_count": null,
   "id": "12e1c4f3-c900-451c-b703-618bce667f9f",
   "metadata": {},
   "outputs": [],
   "source": [
    "class Car:\n",
    "    def __init__(self, make, model):\n",
    "        self.make = make\n",
    "        self.model = model\n",
    "        self.miles = 0\n",
    "    \n",
    "    def drive(self, miles):\n",
    "        self.miles += miles\n",
    "        print(f\"Driving {miles} miles\")\n",
    "    \n",
    "    def get_info(self):\n",
    "        return f\"{self.make} {self.model}, {self.miles} miles\""
   ]
  },
  {
   "cell_type": "markdown",
   "id": "d854b7c7-1999-483d-82ce-478e1af0e683",
   "metadata": {},
   "source": [
    "In the above example, drive and get_info are instance methods. drive takes the argument miles and updates the instance's miles attribute accordingly.\n",
    "\n",
    "get_info returns a string with information about the car's make, model, and miles driven."
   ]
  },
  {
   "cell_type": "code",
   "execution_count": null,
   "id": "a85a7215-26f6-4887-9274-9fb817d14874",
   "metadata": {},
   "outputs": [],
   "source": []
  },
  {
   "cell_type": "code",
   "execution_count": null,
   "id": "5466ff12-cff3-45c3-800b-10f8e77fdd42",
   "metadata": {},
   "outputs": [],
   "source": []
  },
  {
   "cell_type": "markdown",
   "id": "a775c36c-aced-446a-8aba-cb213942adaa",
   "metadata": {},
   "source": [
    "Class Method\n",
    "\n",
    "In Python, a class method is a special type of method that is bound to the class and not to the instance of the class. This means that you can call a class method without creating an instance of the class.\n",
    "\n",
    "To define a class method in Python, you need to use the @classmethod decorator before the method definition.\n",
    "\n",
    "without __init__ method we can pass the data by using   @classmethod."
   ]
  },
  {
   "cell_type": "code",
   "execution_count": 31,
   "id": "4de189b9-0b1e-40dc-a07c-61727d6ec498",
   "metadata": {},
   "outputs": [],
   "source": [
    "class pwskills:\n",
    "    def __init__(self,name,email):\n",
    "        \n",
    "        self.name=name\n",
    "        self.email=email\n",
    "        \n",
    "    def student_details(self):\n",
    "        print(self.name,self.email)"
   ]
  },
  {
   "cell_type": "code",
   "execution_count": 4,
   "id": "11bb0b9e-fb2e-4770-bfeb-0cf0a467b8f5",
   "metadata": {},
   "outputs": [],
   "source": [
    "# Here pw is object which we created \n",
    "pw=pwskills(\"sajal\",\"sajal@gmail.com\")"
   ]
  },
  {
   "cell_type": "code",
   "execution_count": 5,
   "id": "c81f1762-18de-490d-bd08-64b992ac39be",
   "metadata": {},
   "outputs": [
    {
     "data": {
      "text/plain": [
       "'sajal'"
      ]
     },
     "execution_count": 5,
     "metadata": {},
     "output_type": "execute_result"
    }
   ],
   "source": [
    "pw.name"
   ]
  },
  {
   "cell_type": "code",
   "execution_count": 6,
   "id": "113996c3-0219-4f51-b7ad-ca9d83dd91ce",
   "metadata": {},
   "outputs": [
    {
     "data": {
      "text/plain": [
       "'sajal@gmail.com'"
      ]
     },
     "execution_count": 6,
     "metadata": {},
     "output_type": "execute_result"
    }
   ],
   "source": [
    "pw.email"
   ]
  },
  {
   "cell_type": "code",
   "execution_count": 8,
   "id": "80db996d-fe96-4dad-baa5-93d8daa942d4",
   "metadata": {},
   "outputs": [
    {
     "name": "stdout",
     "output_type": "stream",
     "text": [
      "sajal sajal@gmail.com\n"
     ]
    }
   ],
   "source": [
    "pw.student_details()"
   ]
  },
  {
   "cell_type": "code",
   "execution_count": 20,
   "id": "e1790d8c-dddd-4e2a-b05e-54e6224b954f",
   "metadata": {},
   "outputs": [],
   "source": [
    "##  This @classmethod is able to reduce the code to less line,so we can use this code to acces class pwskills.\n",
    "class pwskills1:\n",
    "    def __init__(self,name,email):\n",
    "        \n",
    "        self.name=name\n",
    "        self.email=email\n",
    "        \n",
    "    @classmethod\n",
    "    def details(cls,name, email):\n",
    "        return cls(name, email)\n",
    "    \n",
    "    def student_details(self):\n",
    "        print(self.name,self.email)"
   ]
  },
  {
   "cell_type": "code",
   "execution_count": 21,
   "id": "24451d89-6e7e-401c-990b-3d838aa112e6",
   "metadata": {},
   "outputs": [],
   "source": [
    "pw1=pwskills1.details(\"sajal\",\"kumar@gmail.com\")"
   ]
  },
  {
   "cell_type": "code",
   "execution_count": 22,
   "id": "de3cd11e-af17-4e04-9f10-ead021a577a4",
   "metadata": {},
   "outputs": [
    {
     "data": {
      "text/plain": [
       "'sajal'"
      ]
     },
     "execution_count": 22,
     "metadata": {},
     "output_type": "execute_result"
    }
   ],
   "source": [
    "pw1.name"
   ]
  },
  {
   "cell_type": "code",
   "execution_count": 23,
   "id": "33a64621-e5df-4512-a4d2-c3f9e6766937",
   "metadata": {},
   "outputs": [
    {
     "data": {
      "text/plain": [
       "'kumar@gmail.com'"
      ]
     },
     "execution_count": 23,
     "metadata": {},
     "output_type": "execute_result"
    }
   ],
   "source": [
    "pw1.email"
   ]
  },
  {
   "cell_type": "code",
   "execution_count": null,
   "id": "77b9296e-ec52-40d1-980e-6ed1ba37dd82",
   "metadata": {},
   "outputs": [],
   "source": []
  },
  {
   "cell_type": "code",
   "execution_count": 25,
   "id": "877219d2-77ac-4c86-88a7-8e702d269fe1",
   "metadata": {},
   "outputs": [
    {
     "name": "stdout",
     "output_type": "stream",
     "text": [
      "sajal kumar@gmail.com\n"
     ]
    }
   ],
   "source": [
    "pw1.student_details()"
   ]
  },
  {
   "cell_type": "code",
   "execution_count": null,
   "id": "85404569-ecee-47ae-a890-259d629a5b5f",
   "metadata": {},
   "outputs": [],
   "source": []
  },
  {
   "cell_type": "code",
   "execution_count": 26,
   "id": "f3f651f1-4a7b-491f-a43a-6092a218d199",
   "metadata": {},
   "outputs": [],
   "source": [
    "class pwskills2:\n",
    "    \n",
    "    mobile_number=9123459670\n",
    "    \n",
    "    \n",
    "    def __init__(self,name,email):\n",
    "        \n",
    "        self.name=name\n",
    "        self.email=email\n",
    "        \n",
    "    @classmethod\n",
    "    def details(cls,name, email):\n",
    "        return cls(name, email)\n",
    "    \n",
    "    def student_details(self):\n",
    "        print(self.name,self.email)"
   ]
  },
  {
   "cell_type": "code",
   "execution_count": 28,
   "id": "91b5d6cc-c473-4cce-a113-49594bc874fc",
   "metadata": {},
   "outputs": [
    {
     "data": {
      "text/plain": [
       "9123459670"
      ]
     },
     "execution_count": 28,
     "metadata": {},
     "output_type": "execute_result"
    }
   ],
   "source": [
    "pwskills2.mobile_number"
   ]
  },
  {
   "cell_type": "code",
   "execution_count": 29,
   "id": "95e0b302-3891-4bd3-8955-dba0edff4784",
   "metadata": {},
   "outputs": [],
   "source": [
    "pw2=pwskills2.details(\"sajal\",\"kumarsajal@gmail.com\")"
   ]
  },
  {
   "cell_type": "code",
   "execution_count": 30,
   "id": "1e6e4613-84f3-4b51-b905-c56a4e3897c9",
   "metadata": {},
   "outputs": [
    {
     "name": "stdout",
     "output_type": "stream",
     "text": [
      "sajal kumarsajal@gmail.com\n"
     ]
    }
   ],
   "source": [
    "pw2.student_details()"
   ]
  },
  {
   "cell_type": "code",
   "execution_count": 39,
   "id": "50dc2ff5-4023-4871-979e-8277d80bfd19",
   "metadata": {},
   "outputs": [],
   "source": [
    "class pwskills2:\n",
    "    \n",
    "    mobile_number=9123459670\n",
    "    \n",
    "    \n",
    "    def __init__(self,name,email):\n",
    "        \n",
    "        self.name=name\n",
    "        self.email=email\n",
    "    \n",
    "    @classmethod\n",
    "    def change_number(cls,mobile):\n",
    "        pwskills2.mobile_number=mobile\n",
    "        \n",
    "    @classmethod\n",
    "    def details(cls,name, email):\n",
    "        return cls(name, email)\n",
    "    \n",
    "    def student_details(self):\n",
    "        print(self.name,self.email)\n",
    "    \n",
    "    def student_details(self):\n",
    "        print(self.name,self.email,pwskills2.mobile_number)"
   ]
  },
  {
   "cell_type": "code",
   "execution_count": 40,
   "id": "09013c3f-6a14-451a-affa-f4da989b4672",
   "metadata": {},
   "outputs": [
    {
     "data": {
      "text/plain": [
       "9123459670"
      ]
     },
     "execution_count": 40,
     "metadata": {},
     "output_type": "execute_result"
    }
   ],
   "source": [
    "pwskills2.mobile_number"
   ]
  },
  {
   "cell_type": "code",
   "execution_count": 41,
   "id": "6706409e-2e0e-4a37-bf66-b6bb43e59d1f",
   "metadata": {},
   "outputs": [],
   "source": [
    "pwskills2.change_number(90128463839)"
   ]
  },
  {
   "cell_type": "code",
   "execution_count": 42,
   "id": "ac0ad9f6-dea2-4d21-8f4c-ba1cd7aaac2a",
   "metadata": {},
   "outputs": [
    {
     "data": {
      "text/plain": [
       "90128463839"
      ]
     },
     "execution_count": 42,
     "metadata": {},
     "output_type": "execute_result"
    }
   ],
   "source": [
    "pwskills2.mobile_number"
   ]
  },
  {
   "cell_type": "code",
   "execution_count": 43,
   "id": "98217417-256a-4b25-9a3b-b6b59f546abc",
   "metadata": {},
   "outputs": [],
   "source": [
    "pw2_obj=pwskills2(\"SAJAL\",\"SAJAL@gmail.com\")"
   ]
  },
  {
   "cell_type": "code",
   "execution_count": 44,
   "id": "9c8cb0d8-7d1b-4624-940d-dc74ef538dad",
   "metadata": {},
   "outputs": [
    {
     "name": "stdout",
     "output_type": "stream",
     "text": [
      "SAJAL SAJAL@gmail.com 90128463839\n"
     ]
    }
   ],
   "source": [
    "pw2_obj.student_details()"
   ]
  },
  {
   "cell_type": "code",
   "execution_count": null,
   "id": "812f2350-d845-403c-9f3d-c1c80ca14715",
   "metadata": {},
   "outputs": [],
   "source": []
  },
  {
   "cell_type": "code",
   "execution_count": 49,
   "id": "4fb6b78c-cdc0-442d-b87e-c49fa44efa59",
   "metadata": {},
   "outputs": [],
   "source": [
    "class pwskills3:\n",
    "    \n",
    "    mobile_number=9123459670\n",
    "    \n",
    "    \n",
    "    def __init__(self,name,email):\n",
    "        \n",
    "        self.name=name\n",
    "        self.email=email\n",
    "    \n",
    "    @classmethod\n",
    "    def change_number(cls,mobile):\n",
    "        pwskills2.mobile_number=mobile\n",
    "        \n",
    "    @classmethod\n",
    "    def details(cls,name, email):\n",
    "        return cls(name, email)\n",
    "    \n",
    "    def student_details(self):\n",
    "        print(self.name,self.email)\n",
    "    \n",
    "    def student_details(self):\n",
    "        print(self.name,self.email,pwskills2.mobile_number)"
   ]
  },
  {
   "cell_type": "code",
   "execution_count": 59,
   "id": "56cc192d-878c-4ed7-a593-3fcb2d26b9dd",
   "metadata": {},
   "outputs": [],
   "source": [
    "def course_details(cls,course_name):\n",
    "    print(\"course detail\",course_name)"
   ]
  },
  {
   "cell_type": "code",
   "execution_count": 60,
   "id": "aba23caa-70b4-422a-ad9d-ead343dadb4d",
   "metadata": {},
   "outputs": [],
   "source": [
    "pwskills3.course_details=classmethod(course_details)"
   ]
  },
  {
   "cell_type": "code",
   "execution_count": 61,
   "id": "b09c076e-c54b-4ac9-ae70-fadfb40b9b39",
   "metadata": {},
   "outputs": [
    {
     "name": "stdout",
     "output_type": "stream",
     "text": [
      "course detail data science master\n"
     ]
    }
   ],
   "source": [
    "pwskills3.course_details(\"data science master\")"
   ]
  },
  {
   "cell_type": "code",
   "execution_count": 62,
   "id": "c7966a4e-23e7-4633-9dff-4440dbbb8765",
   "metadata": {},
   "outputs": [],
   "source": [
    "pw3=pwskills3(\"sajal\",\"sajal@gmail.com\")"
   ]
  },
  {
   "cell_type": "code",
   "execution_count": 63,
   "id": "ec1fe605-3ae3-41bd-a220-7ddf337d81cf",
   "metadata": {},
   "outputs": [
    {
     "name": "stdout",
     "output_type": "stream",
     "text": [
      "course detail web dev\n"
     ]
    }
   ],
   "source": [
    "pw3.course_details(\"web dev\")"
   ]
  },
  {
   "cell_type": "code",
   "execution_count": null,
   "id": "41efa2f6-adf7-4a13-939c-c57d249fd621",
   "metadata": {},
   "outputs": [],
   "source": []
  },
  {
   "cell_type": "markdown",
   "id": "02be8169-24ff-4c9c-ad71-68dc724804b9",
   "metadata": {},
   "source": [
    "Static Method\n",
    "\n",
    "In Python, a static method is a method that belongs to a class, but does not have access to the instance or class variables. It is defined using the @staticmethod decorator, which indicates to Python that the method is static."
   ]
  },
  {
   "cell_type": "code",
   "execution_count": null,
   "id": "081d5cc7-e887-4195-89d0-9b219903c760",
   "metadata": {},
   "outputs": [],
   "source": []
  },
  {
   "cell_type": "code",
   "execution_count": 3,
   "id": "0b5b93b5-e28a-45c9-92ac-9b4f8f1ee579",
   "metadata": {},
   "outputs": [],
   "source": [
    "class pwskills:\n",
    "    def student_details(self,name,mail_id,number):\n",
    "        print(name,mail_id,number)\n",
    "    "
   ]
  },
  {
   "cell_type": "code",
   "execution_count": 5,
   "id": "c339cb56-68c6-4824-a684-7fb3e75ba4ff",
   "metadata": {},
   "outputs": [],
   "source": [
    "## pw is a object\n",
    "pw=pwskills()"
   ]
  },
  {
   "cell_type": "code",
   "execution_count": 6,
   "id": "5bd88455-9337-440b-ab3e-f8d0ec11c943",
   "metadata": {},
   "outputs": [
    {
     "name": "stdout",
     "output_type": "stream",
     "text": [
      "sajal kumar@gmial.com 9123093478\n"
     ]
    }
   ],
   "source": [
    "pw.student_details(\"sajal\",\"kumar@gmial.com\",9123093478)"
   ]
  },
  {
   "cell_type": "code",
   "execution_count": 7,
   "id": "84b2cc47-27ad-4673-94ff-999753469160",
   "metadata": {},
   "outputs": [],
   "source": [
    "class pwskills1:\n",
    "    def student_details(self,name,mail_id,number):\n",
    "        print(name,mail_id,number)\n",
    "        \n",
    "    @staticmethod\n",
    "    def mentor_class(list_mentor):\n",
    "        print(list_mentor)\n",
    "        \n",
    "    def mentor(self,mentor_list):\n",
    "        print(mentor_list)"
   ]
  },
  {
   "cell_type": "code",
   "execution_count": 9,
   "id": "cccda0d9-cf05-4a98-8ccb-61e3c4f23648",
   "metadata": {},
   "outputs": [],
   "source": [
    "pw1=pwskills1()"
   ]
  },
  {
   "cell_type": "code",
   "execution_count": 14,
   "id": "321ac6aa-62dc-4378-a6ff-de72334572a2",
   "metadata": {},
   "outputs": [
    {
     "name": "stdout",
     "output_type": "stream",
     "text": [
      "['sajal', 'kumar']\n"
     ]
    }
   ],
   "source": [
    "pw1.mentor([\"sajal\",\"kumar\"])"
   ]
  },
  {
   "cell_type": "code",
   "execution_count": 15,
   "id": "d4b89253-b797-4a02-837d-3dd554cd482b",
   "metadata": {},
   "outputs": [
    {
     "name": "stdout",
     "output_type": "stream",
     "text": [
      "['saj', 'kum']\n"
     ]
    }
   ],
   "source": [
    "pw1.mentor_class([\"saj\",\"kum\"])"
   ]
  },
  {
   "cell_type": "code",
   "execution_count": 16,
   "id": "3191e424-c879-4386-b2ca-2317137c53a5",
   "metadata": {},
   "outputs": [
    {
     "name": "stdout",
     "output_type": "stream",
     "text": [
      "['saj', 'kum']\n"
     ]
    }
   ],
   "source": [
    "pwskills1.mentor_class([\"saj\",\"kum\"])"
   ]
  },
  {
   "cell_type": "code",
   "execution_count": null,
   "id": "988d5194-5041-42c9-927a-69e0f83072b5",
   "metadata": {},
   "outputs": [],
   "source": []
  },
  {
   "cell_type": "code",
   "execution_count": 17,
   "id": "34399f17-48c5-45a3-8be0-66cb1aa50b77",
   "metadata": {},
   "outputs": [],
   "source": [
    "class pwskills1:\n",
    "    def student_details(self,name,mail_id,number):\n",
    "        print(name,mail_id,number)\n",
    "        \n",
    "    @staticmethod\n",
    "    def mentor_class(list_mentor):\n",
    "        print(list_mentor)\n",
    "        \n",
    "    @classmethod\n",
    "    def class_name(cls,class_name):\n",
    "        cls.mentor_class([\"sajal\",\"kumar\"])\n",
    "        \n",
    "    def mentor(self,mentor_list):\n",
    "        print(mentor_list)"
   ]
  },
  {
   "cell_type": "code",
   "execution_count": null,
   "id": "9d1d9881-a476-4034-aed6-5054bdcc8141",
   "metadata": {},
   "outputs": [],
   "source": []
  },
  {
   "cell_type": "code",
   "execution_count": 26,
   "id": "a8208d1a-9e85-4095-9096-4efe167e9eed",
   "metadata": {},
   "outputs": [],
   "source": [
    "class pwskills1:\n",
    "    def student_details(self,name,mail_id,number):\n",
    "        print(name,mail_id,number)\n",
    "          \n",
    "    @staticmethod\n",
    "    def mentor_class(list_mentor):\n",
    "        print(list_mentor)\n",
    "        \n",
    "    @staticmethod\n",
    "    def mentor_class(list_mentor):\n",
    "        print(list_mentor)\n",
    "        pwskills1.mentor_mail_id([\"sajal@gmail.com\",\"kumar@gmail.com\"])\n",
    "        \n",
    "    @classmethod\n",
    "    def class_name(cls,class_name):\n",
    "        cls.mentor_class([\"sajal\",\"kumar\"])\n",
    "        \n",
    "    def mentor(self,mentor_list):\n",
    "        print(mentor_list)"
   ]
  },
  {
   "cell_type": "code",
   "execution_count": 27,
   "id": "f83038c4-983f-43d7-80de-cf887960b50a",
   "metadata": {},
   "outputs": [],
   "source": [
    "pw1=pwskills1()"
   ]
  },
  {
   "cell_type": "code",
   "execution_count": 28,
   "id": "2e252bb5-60a3-4a97-b82e-cce2d00c0c7a",
   "metadata": {},
   "outputs": [
    {
     "name": "stdout",
     "output_type": "stream",
     "text": [
      "piyu piyu@gmail.com 9123456798\n"
     ]
    }
   ],
   "source": [
    "pw1.student_details(\"piyu\",\"piyu@gmail.com\",9123456798)"
   ]
  },
  {
   "cell_type": "code",
   "execution_count": 29,
   "id": "d54721a7-eea6-41b9-a355-159f0a266074",
   "metadata": {},
   "outputs": [
    {
     "ename": "AttributeError",
     "evalue": "'pwskills1' object has no attribute 'mentor_mail_id'",
     "output_type": "error",
     "traceback": [
      "\u001b[0;31m---------------------------------------------------------------------------\u001b[0m",
      "\u001b[0;31mAttributeError\u001b[0m                            Traceback (most recent call last)",
      "Cell \u001b[0;32mIn[29], line 1\u001b[0m\n\u001b[0;32m----> 1\u001b[0m \u001b[43mpw1\u001b[49m\u001b[38;5;241;43m.\u001b[39;49m\u001b[43mmentor_mail_id\u001b[49m([\u001b[38;5;124m\"\u001b[39m\u001b[38;5;124msajal@gmail.com\u001b[39m\u001b[38;5;124m\"\u001b[39m,\u001b[38;5;124m\"\u001b[39m\u001b[38;5;124mkumar@gmail.com\u001b[39m\u001b[38;5;124m\"\u001b[39m])\n",
      "\u001b[0;31mAttributeError\u001b[0m: 'pwskills1' object has no attribute 'mentor_mail_id'"
     ]
    }
   ],
   "source": [
    "pw1.mentor_mail_id([\"sajal@gmail.com\",\"kumar@gmail.com\"])"
   ]
  },
  {
   "cell_type": "code",
   "execution_count": 32,
   "id": "62d4f9db-4e02-474f-bfba-4867bd888907",
   "metadata": {},
   "outputs": [
    {
     "name": "stdout",
     "output_type": "stream",
     "text": [
      "['sajal', 'kumar']\n"
     ]
    },
    {
     "ename": "AttributeError",
     "evalue": "type object 'pwskills1' has no attribute 'mentor_mail_id'",
     "output_type": "error",
     "traceback": [
      "\u001b[0;31m---------------------------------------------------------------------------\u001b[0m",
      "\u001b[0;31mAttributeError\u001b[0m                            Traceback (most recent call last)",
      "Cell \u001b[0;32mIn[32], line 1\u001b[0m\n\u001b[0;32m----> 1\u001b[0m \u001b[43mpw1\u001b[49m\u001b[38;5;241;43m.\u001b[39;49m\u001b[43mclass_name\u001b[49m\u001b[43m(\u001b[49m\u001b[38;5;124;43m\"\u001b[39;49m\u001b[38;5;124;43mdata science masters\u001b[39;49m\u001b[38;5;124;43m\"\u001b[39;49m\u001b[43m)\u001b[49m\n",
      "Cell \u001b[0;32mIn[26], line 16\u001b[0m, in \u001b[0;36mpwskills1.class_name\u001b[0;34m(cls, class_name)\u001b[0m\n\u001b[1;32m     14\u001b[0m \u001b[38;5;129m@classmethod\u001b[39m\n\u001b[1;32m     15\u001b[0m \u001b[38;5;28;01mdef\u001b[39;00m \u001b[38;5;21mclass_name\u001b[39m(\u001b[38;5;28mcls\u001b[39m,class_name):\n\u001b[0;32m---> 16\u001b[0m     \u001b[38;5;28;43mcls\u001b[39;49m\u001b[38;5;241;43m.\u001b[39;49m\u001b[43mmentor_class\u001b[49m\u001b[43m(\u001b[49m\u001b[43m[\u001b[49m\u001b[38;5;124;43m\"\u001b[39;49m\u001b[38;5;124;43msajal\u001b[39;49m\u001b[38;5;124;43m\"\u001b[39;49m\u001b[43m,\u001b[49m\u001b[38;5;124;43m\"\u001b[39;49m\u001b[38;5;124;43mkumar\u001b[39;49m\u001b[38;5;124;43m\"\u001b[39;49m\u001b[43m]\u001b[49m\u001b[43m)\u001b[49m\n",
      "Cell \u001b[0;32mIn[26], line 12\u001b[0m, in \u001b[0;36mpwskills1.mentor_class\u001b[0;34m(list_mentor)\u001b[0m\n\u001b[1;32m      9\u001b[0m \u001b[38;5;129m@staticmethod\u001b[39m\n\u001b[1;32m     10\u001b[0m \u001b[38;5;28;01mdef\u001b[39;00m \u001b[38;5;21mmentor_class\u001b[39m(list_mentor):\n\u001b[1;32m     11\u001b[0m     \u001b[38;5;28mprint\u001b[39m(list_mentor)\n\u001b[0;32m---> 12\u001b[0m     \u001b[43mpwskills1\u001b[49m\u001b[38;5;241;43m.\u001b[39;49m\u001b[43mmentor_mail_id\u001b[49m([\u001b[38;5;124m\"\u001b[39m\u001b[38;5;124msajal@gmail.com\u001b[39m\u001b[38;5;124m\"\u001b[39m,\u001b[38;5;124m\"\u001b[39m\u001b[38;5;124mkumar@gmail.com\u001b[39m\u001b[38;5;124m\"\u001b[39m])\n",
      "\u001b[0;31mAttributeError\u001b[0m: type object 'pwskills1' has no attribute 'mentor_mail_id'"
     ]
    }
   ],
   "source": [
    "pw1.class_name(\"data science masters\")"
   ]
  },
  {
   "cell_type": "code",
   "execution_count": null,
   "id": "18032c4e-d482-4bab-9f19-2b195796b4e5",
   "metadata": {},
   "outputs": [],
   "source": []
  },
  {
   "cell_type": "code",
   "execution_count": null,
   "id": "55face46-23e7-4edd-a8f4-30d15480871f",
   "metadata": {},
   "outputs": [],
   "source": []
  },
  {
   "cell_type": "markdown",
   "id": "60057e93-4cec-416d-8a86-92eddc49349c",
   "metadata": {},
   "source": [
    "Dunder Method\n",
    "\n",
    "Dunder or magic methods in Python are the methods having two prefix and suffix underscores in the method name.\n",
    "\n",
    "In Python, dunder methods are methods that allow instances of a class to interact with the built-in functions and operators of the language"
   ]
  },
  {
   "cell_type": "code",
   "execution_count": null,
   "id": "1149f91a-5eab-43a2-9ba4-fc74f4f8fc5e",
   "metadata": {},
   "outputs": [],
   "source": []
  },
  {
   "cell_type": "code",
   "execution_count": 1,
   "id": "92501f85-d2dd-44c2-921a-193a82beab21",
   "metadata": {},
   "outputs": [],
   "source": [
    "a=10"
   ]
  },
  {
   "cell_type": "code",
   "execution_count": 2,
   "id": "7fb5b5a7-eb1c-43fe-ab59-edbfbff3c723",
   "metadata": {},
   "outputs": [
    {
     "data": {
      "text/plain": [
       "16"
      ]
     },
     "execution_count": 2,
     "metadata": {},
     "output_type": "execute_result"
    }
   ],
   "source": [
    "a+6"
   ]
  },
  {
   "cell_type": "code",
   "execution_count": 6,
   "id": "659afaeb-10b2-4c84-a9f7-f1e8b9c95003",
   "metadata": {},
   "outputs": [
    {
     "data": {
      "text/plain": [
       "20"
      ]
     },
     "execution_count": 6,
     "metadata": {},
     "output_type": "execute_result"
    }
   ],
   "source": [
    "## In dunder method we can add \n",
    "a.__add__(10)"
   ]
  },
  {
   "cell_type": "code",
   "execution_count": 8,
   "id": "d210b390-53c4-4358-ae7f-33ab8af9b07a",
   "metadata": {},
   "outputs": [
    {
     "data": {
      "text/plain": [
       "['__add__',\n",
       " '__class__',\n",
       " '__contains__',\n",
       " '__delattr__',\n",
       " '__dir__',\n",
       " '__doc__',\n",
       " '__eq__',\n",
       " '__format__',\n",
       " '__ge__',\n",
       " '__getattribute__',\n",
       " '__getitem__',\n",
       " '__getnewargs__',\n",
       " '__gt__',\n",
       " '__hash__',\n",
       " '__init__',\n",
       " '__init_subclass__',\n",
       " '__iter__',\n",
       " '__le__',\n",
       " '__len__',\n",
       " '__lt__',\n",
       " '__mod__',\n",
       " '__mul__',\n",
       " '__ne__',\n",
       " '__new__',\n",
       " '__reduce__',\n",
       " '__reduce_ex__',\n",
       " '__repr__',\n",
       " '__rmod__',\n",
       " '__rmul__',\n",
       " '__setattr__',\n",
       " '__sizeof__',\n",
       " '__str__',\n",
       " '__subclasshook__',\n",
       " 'capitalize',\n",
       " 'casefold',\n",
       " 'center',\n",
       " 'count',\n",
       " 'encode',\n",
       " 'endswith',\n",
       " 'expandtabs',\n",
       " 'find',\n",
       " 'format',\n",
       " 'format_map',\n",
       " 'index',\n",
       " 'isalnum',\n",
       " 'isalpha',\n",
       " 'isascii',\n",
       " 'isdecimal',\n",
       " 'isdigit',\n",
       " 'isidentifier',\n",
       " 'islower',\n",
       " 'isnumeric',\n",
       " 'isprintable',\n",
       " 'isspace',\n",
       " 'istitle',\n",
       " 'isupper',\n",
       " 'join',\n",
       " 'ljust',\n",
       " 'lower',\n",
       " 'lstrip',\n",
       " 'maketrans',\n",
       " 'partition',\n",
       " 'removeprefix',\n",
       " 'removesuffix',\n",
       " 'replace',\n",
       " 'rfind',\n",
       " 'rindex',\n",
       " 'rjust',\n",
       " 'rpartition',\n",
       " 'rsplit',\n",
       " 'rstrip',\n",
       " 'split',\n",
       " 'splitlines',\n",
       " 'startswith',\n",
       " 'strip',\n",
       " 'swapcase',\n",
       " 'title',\n",
       " 'translate',\n",
       " 'upper',\n",
       " 'zfill']"
      ]
     },
     "execution_count": 8,
     "metadata": {},
     "output_type": "execute_result"
    }
   ],
   "source": [
    "dir(str)"
   ]
  },
  {
   "cell_type": "code",
   "execution_count": 9,
   "id": "6301c529-52a9-4322-b055-6fa1dcd128a3",
   "metadata": {},
   "outputs": [],
   "source": [
    "class pwskills:\n",
    "    def __init__(self):\n",
    "        print(\"this is me\")"
   ]
  },
  {
   "cell_type": "code",
   "execution_count": 10,
   "id": "0b651fb7-cc19-4940-9fdd-4df3cd51a1b2",
   "metadata": {},
   "outputs": [
    {
     "name": "stdout",
     "output_type": "stream",
     "text": [
      "this is me\n"
     ]
    }
   ],
   "source": [
    "pw=pwskills()"
   ]
  },
  {
   "cell_type": "code",
   "execution_count": 19,
   "id": "02eb333d-5a05-4309-9323-b430d6c67157",
   "metadata": {},
   "outputs": [],
   "source": [
    "## Here before init __new__ magic method is called\n",
    "class pwskills1:\n",
    "    def __new__(cls):\n",
    "        print(\"this is my\")\n",
    "        \n",
    "    def __init__(self):\n",
    "        print(\"this is me\")"
   ]
  },
  {
   "cell_type": "code",
   "execution_count": 20,
   "id": "1b380e83-b244-4c6c-8f11-6c8fc097db65",
   "metadata": {},
   "outputs": [
    {
     "name": "stdout",
     "output_type": "stream",
     "text": [
      "this is my\n"
     ]
    }
   ],
   "source": [
    "pw=pwskills()"
   ]
  },
  {
   "cell_type": "code",
   "execution_count": 22,
   "id": "8515eb51-bcc5-48f1-ad2c-1d70341050c1",
   "metadata": {},
   "outputs": [],
   "source": [
    "class pwskills3:\n",
    "    def __add__(cls):\n",
    "        print(\"this is my\")\n",
    "        \n",
    "    def __init__(self):\n",
    "        print(\"this is me\")"
   ]
  },
  {
   "cell_type": "code",
   "execution_count": 24,
   "id": "2242ecd9-8889-4a16-909b-eeb3d4bd2ca1",
   "metadata": {},
   "outputs": [
    {
     "name": "stdout",
     "output_type": "stream",
     "text": [
      "this is me\n"
     ]
    }
   ],
   "source": [
    "pw=pwskills3()"
   ]
  },
  {
   "cell_type": "code",
   "execution_count": null,
   "id": "de2e0262-49c1-4dd8-b327-e8598da404e9",
   "metadata": {},
   "outputs": [],
   "source": []
  },
  {
   "cell_type": "code",
   "execution_count": null,
   "id": "137f1a20-813b-4be2-be65-5bca351b61df",
   "metadata": {},
   "outputs": [],
   "source": []
  },
  {
   "cell_type": "markdown",
   "id": "c8c21661-db59-4d81-bf5a-89f1a5cce567",
   "metadata": {},
   "source": [
    "Propert decorator\n",
    "\n",
    "The property is a built-in decorator for the property() function in Python. It is used to give \"special\" functionality to certain methods to make them act as getters, setters, or deleters when we define properties in a class."
   ]
  },
  {
   "cell_type": "code",
   "execution_count": 31,
   "id": "ae31c21e-04c0-4c2d-85eb-924db1461130",
   "metadata": {},
   "outputs": [],
   "source": [
    "class pwskills:\n",
    "    def __init__(self,course_name,course_price):\n",
    "        self.course_name=course_name\n",
    "        self.__course_price=course_price\n"
   ]
  },
  {
   "cell_type": "code",
   "execution_count": 32,
   "id": "b410147b-0a9e-4dde-b522-3acdaeb54451",
   "metadata": {},
   "outputs": [],
   "source": [
    "pw=pwskills(\"Data Science\",3200)"
   ]
  },
  {
   "cell_type": "code",
   "execution_count": 33,
   "id": "e0bfcf57-fcb0-43a9-8667-a52037277774",
   "metadata": {},
   "outputs": [
    {
     "data": {
      "text/plain": [
       "'Data Science'"
      ]
     },
     "execution_count": 33,
     "metadata": {},
     "output_type": "execute_result"
    }
   ],
   "source": [
    "pw.course_name"
   ]
  },
  {
   "cell_type": "code",
   "execution_count": 35,
   "id": "853e107e-0c68-4f23-bb57-38723690cc47",
   "metadata": {},
   "outputs": [
    {
     "data": {
      "text/plain": [
       "3200"
      ]
     },
     "execution_count": 35,
     "metadata": {},
     "output_type": "execute_result"
    }
   ],
   "source": [
    "## here course price is protected\n",
    "pw._pwskills__course_price"
   ]
  },
  {
   "cell_type": "markdown",
   "id": "8b09fe17-9d67-4b52-85c9-92904c393da1",
   "metadata": {},
   "source": [
    "## So here property decorator is used  to give \"special\" functionality to certain methods to make them act as getters, setters, or deleters when we define properties in a class."
   ]
  },
  {
   "cell_type": "code",
   "execution_count": 39,
   "id": "a931de16-43ea-4e5a-bf27-c9df9a04002f",
   "metadata": {},
   "outputs": [],
   "source": [
    "class pwskills:\n",
    "    def __init__(self,course_price,course_name):\n",
    "        self.course_price=course_price\n",
    "        self.course_name=course_name\n",
    "        \n",
    "    @property\n",
    "    def course_price_access(self):\n",
    "        return self.__course_price\n",
    "    \n",
    "    @course_price_access.setter\n",
    "    def course_price_set(self , price):\n",
    "        if price <= 3500:\n",
    "            pass\n",
    "        else :\n",
    "            self.__course_price = price\n",
    "            \n",
    "    @course_price_access.deleter \n",
    "    def course_price_del(self):\n",
    "        del  self.__course_price\n",
    "    \n",
    "    "
   ]
  },
  {
   "cell_type": "code",
   "execution_count": 40,
   "id": "1f01b952-ea5c-46fb-a424-60c09192f343",
   "metadata": {},
   "outputs": [],
   "source": [
    "pw = pwskills(3500 , \"data science masters\")"
   ]
  },
  {
   "cell_type": "code",
   "execution_count": 41,
   "id": "e3ea1a40-31f0-4538-9e73-891410155499",
   "metadata": {},
   "outputs": [
    {
     "ename": "AttributeError",
     "evalue": "'pwskills' object has no attribute '_pwskills__course_price'",
     "output_type": "error",
     "traceback": [
      "\u001b[0;31m---------------------------------------------------------------------------\u001b[0m",
      "\u001b[0;31mAttributeError\u001b[0m                            Traceback (most recent call last)",
      "Cell \u001b[0;32mIn[41], line 1\u001b[0m\n\u001b[0;32m----> 1\u001b[0m \u001b[43mpw\u001b[49m\u001b[38;5;241;43m.\u001b[39;49m\u001b[43mcourse_price_access\u001b[49m\n",
      "Cell \u001b[0;32mIn[39], line 8\u001b[0m, in \u001b[0;36mpwskills.course_price_access\u001b[0;34m(self)\u001b[0m\n\u001b[1;32m      6\u001b[0m \u001b[38;5;129m@property\u001b[39m\n\u001b[1;32m      7\u001b[0m \u001b[38;5;28;01mdef\u001b[39;00m \u001b[38;5;21mcourse_price_access\u001b[39m(\u001b[38;5;28mself\u001b[39m):\n\u001b[0;32m----> 8\u001b[0m     \u001b[38;5;28;01mreturn\u001b[39;00m \u001b[38;5;28;43mself\u001b[39;49m\u001b[38;5;241;43m.\u001b[39;49m\u001b[43m__course_price\u001b[49m\n",
      "\u001b[0;31mAttributeError\u001b[0m: 'pwskills' object has no attribute '_pwskills__course_price'"
     ]
    }
   ],
   "source": [
    "pw.course_price_access"
   ]
  },
  {
   "cell_type": "code",
   "execution_count": 44,
   "id": "4d1ef0bb-f509-4847-8176-52ebcac752ff",
   "metadata": {},
   "outputs": [
    {
     "ename": "AttributeError",
     "evalue": "_pwskills__course_price",
     "output_type": "error",
     "traceback": [
      "\u001b[0;31m---------------------------------------------------------------------------\u001b[0m",
      "\u001b[0;31mAttributeError\u001b[0m                            Traceback (most recent call last)",
      "Cell \u001b[0;32mIn[44], line 1\u001b[0m\n\u001b[0;32m----> 1\u001b[0m \u001b[38;5;28;01mdel\u001b[39;00m pw\u001b[38;5;241m.\u001b[39mcourse_price_del\n",
      "Cell \u001b[0;32mIn[39], line 19\u001b[0m, in \u001b[0;36mpwskills.course_price_del\u001b[0;34m(self)\u001b[0m\n\u001b[1;32m     17\u001b[0m \u001b[38;5;129m@course_price_access\u001b[39m\u001b[38;5;241m.\u001b[39mdeleter \n\u001b[1;32m     18\u001b[0m \u001b[38;5;28;01mdef\u001b[39;00m \u001b[38;5;21mcourse_price_del\u001b[39m(\u001b[38;5;28mself\u001b[39m):\n\u001b[0;32m---> 19\u001b[0m     \u001b[38;5;28;01mdel\u001b[39;00m  \u001b[38;5;28mself\u001b[39m\u001b[38;5;241m.\u001b[39m__course_price\n",
      "\u001b[0;31mAttributeError\u001b[0m: _pwskills__course_price"
     ]
    }
   ],
   "source": [
    "del pw.course_price_del"
   ]
  },
  {
   "cell_type": "code",
   "execution_count": 45,
   "id": "4f91fabc-9fec-45c7-8f4d-c9612c5aa23a",
   "metadata": {},
   "outputs": [],
   "source": [
    "pw.course_price_set = 2300"
   ]
  },
  {
   "cell_type": "code",
   "execution_count": 46,
   "id": "ccc8e5a4-ddc4-452a-a010-e5e059ff35c1",
   "metadata": {},
   "outputs": [
    {
     "ename": "AttributeError",
     "evalue": "'pwskills' object has no attribute '_pwskills__course_price'",
     "output_type": "error",
     "traceback": [
      "\u001b[0;31m---------------------------------------------------------------------------\u001b[0m",
      "\u001b[0;31mAttributeError\u001b[0m                            Traceback (most recent call last)",
      "Cell \u001b[0;32mIn[46], line 1\u001b[0m\n\u001b[0;32m----> 1\u001b[0m \u001b[43mpw\u001b[49m\u001b[38;5;241;43m.\u001b[39;49m\u001b[43mcourse_price_access\u001b[49m\n",
      "Cell \u001b[0;32mIn[39], line 8\u001b[0m, in \u001b[0;36mpwskills.course_price_access\u001b[0;34m(self)\u001b[0m\n\u001b[1;32m      6\u001b[0m \u001b[38;5;129m@property\u001b[39m\n\u001b[1;32m      7\u001b[0m \u001b[38;5;28;01mdef\u001b[39;00m \u001b[38;5;21mcourse_price_access\u001b[39m(\u001b[38;5;28mself\u001b[39m):\n\u001b[0;32m----> 8\u001b[0m     \u001b[38;5;28;01mreturn\u001b[39;00m \u001b[38;5;28;43mself\u001b[39;49m\u001b[38;5;241;43m.\u001b[39;49m\u001b[43m__course_price\u001b[49m\n",
      "\u001b[0;31mAttributeError\u001b[0m: 'pwskills' object has no attribute '_pwskills__course_price'"
     ]
    }
   ],
   "source": [
    "pw.course_price_access"
   ]
  },
  {
   "cell_type": "code",
   "execution_count": 47,
   "id": "1d9c0d48-adeb-4025-a94f-d229461a45f8",
   "metadata": {},
   "outputs": [],
   "source": [
    "pw.course_price_set = 4500"
   ]
  },
  {
   "cell_type": "code",
   "execution_count": 48,
   "id": "221b7de6-7137-441c-946b-f395f4456f09",
   "metadata": {},
   "outputs": [
    {
     "data": {
      "text/plain": [
       "4500"
      ]
     },
     "execution_count": 48,
     "metadata": {},
     "output_type": "execute_result"
    }
   ],
   "source": [
    "pw.course_price_access"
   ]
  },
  {
   "cell_type": "code",
   "execution_count": 49,
   "id": "0ba7b3f2-926a-48bb-8425-3f3c22fe964d",
   "metadata": {},
   "outputs": [
    {
     "data": {
      "text/plain": [
       "3500"
      ]
     },
     "execution_count": 49,
     "metadata": {},
     "output_type": "execute_result"
    }
   ],
   "source": [
    "pw.course_price"
   ]
  },
  {
   "cell_type": "code",
   "execution_count": 50,
   "id": "80936442-3d6e-4f02-8a61-06389f52b24f",
   "metadata": {},
   "outputs": [
    {
     "data": {
      "text/plain": [
       "'data science masters'"
      ]
     },
     "execution_count": 50,
     "metadata": {},
     "output_type": "execute_result"
    }
   ],
   "source": [
    "pw.course_name"
   ]
  },
  {
   "cell_type": "code",
   "execution_count": null,
   "id": "2451eab0-771b-46f8-8a85-2a72bb23480c",
   "metadata": {},
   "outputs": [],
   "source": []
  }
 ],
 "metadata": {
  "kernelspec": {
   "display_name": "Python 3 (ipykernel)",
   "language": "python",
   "name": "python3"
  },
  "language_info": {
   "codemirror_mode": {
    "name": "ipython",
    "version": 3
   },
   "file_extension": ".py",
   "mimetype": "text/x-python",
   "name": "python",
   "nbconvert_exporter": "python",
   "pygments_lexer": "ipython3",
   "version": "3.10.8"
  }
 },
 "nbformat": 4,
 "nbformat_minor": 5
}
